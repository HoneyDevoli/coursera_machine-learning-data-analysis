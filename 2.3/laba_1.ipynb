{
 "cells": [
  {
   "cell_type": "code",
   "execution_count": 3,
   "metadata": {},
   "outputs": [],
   "source": [
    "import requests"
   ]
  },
  {
   "cell_type": "code",
   "execution_count": 116,
   "metadata": {},
   "outputs": [
    {
     "data": {
      "text/plain": [
       "['in comparison to dogs, cats have not undergone major changes during the domestication process.',\n",
       " 'as cat simply catenates streams of bytes, it can be also used to concatenate binary files, where it will just concatenate sequence of bytes.',\n",
       " 'a common interactive use of cat for a single file is to output the content of a file to standard output.',\n",
       " 'cats can hear sounds too faint or too high in frequency for human ears, such as those made by mice and other small animals.',\n",
       " 'in one, people deliberately tamed cats in a process of artificial selection, as they were useful predators of vermin.',\n",
       " 'the domesticated cat and its closest wild ancestor are both diploid organisms that possess 38 chromosomes and roughly 20,000 genes.',\n",
       " 'domestic cats are similar in size to the other members of the genus felis, typically weighing between 4 and 5 kg (8.8 and 11.0 lb).',\n",
       " 'however, if the output is piped or redirected, cat is unnecessary.',\n",
       " 'cat with one named file is safer where human error is a concern - one wrong use of the default redirection symbol \">\" instead of \"<\" (often adjacent on keyboards) may permanently delete the file you were just needing to read.',\n",
       " 'in terms of legibility, a sequence of commands starting with cat and connected by pipes has a clear left-to-right flow of information.',\n",
       " 'cat command is one of the basic commands that you learned when you started in the unix / linux world.',\n",
       " 'using cat command, the lines received from stdin can be redirected to a new file using redirection symbols.',\n",
       " 'when you type simply cat command without any arguments, it just receives the stdin content and displays it in the stdout.',\n",
       " 'leopard was released on october 26, 2007 as the successor of tiger (version 10.4), and is available in two editions.',\n",
       " 'according to apple, leopard contains over 300 changes and enhancements over its predecessor, mac os x tiger.',\n",
       " 'as of mid 2010, some apple computers have firmware factory installed which will no longer allow installation of mac os x leopard.',\n",
       " 'since apple moved to using intel processors in their computers, the osx86 community has developed and now also allows mac os x tiger and later releases to be installed on non-apple x86-based computers.',\n",
       " \"os x mountain lion was released on july 25, 2012 for purchase and download through apple's mac app store, as part of a switch to releasing os x versions online and every year.\",\n",
       " 'apple has released a small patch for the three most recent versions of safari running on os x yosemite, mavericks, and mountain lion.',\n",
       " 'the mountain lion release marks the second time apple has offered an incremental upgrade, rather than releasing a new cat entirely.',\n",
       " \"mac os x mountain lion installs in place, so you won't need to create a separate disk or run the installation off an external drive.\",\n",
       " \"the fifth major update to mac os x, leopard, contains such a mountain of features - more than 300 by apple's count.\"]"
      ]
     },
     "execution_count": 116,
     "metadata": {},
     "output_type": "execute_result"
    }
   ],
   "source": [
    "r = requests.get('https://d3c33hcgiwev3.cloudfront.net/_3a8d746cf4d86fba2f31586f239d11fd_sentences.txt?Expires=1581724800&Signature=am4yRn7oHbwfJ7W~mI48EsSlIOK5~KISSvhbWhmt85Yy3LARFQ6pz69V5oHp22iDAKcZRurSMgUnteL9dJTpCnURv~jEBqLBLvg8LNvvyhQ9YZmLSx10-L2cVWeAmslECjQzrKX1hPrMSF46qaKCc9hJAJ2lD2VgeJ~eQxpV6Yk_&Key-Pair-Id=APKAJLTNE6QMUY6HBC5A')\n",
    "list_lines = r.content.decode().lower().split('\\n')\n",
    "list_lines[0:-1]"
   ]
  },
  {
   "cell_type": "code",
   "execution_count": 67,
   "metadata": {},
   "outputs": [
    {
     "data": {
      "text/plain": [
       "['in',\n",
       " 'comparison',\n",
       " 'to',\n",
       " 'dogs',\n",
       " '',\n",
       " 'cats',\n",
       " 'have',\n",
       " 'not',\n",
       " 'undergone',\n",
       " 'major',\n",
       " 'changes',\n",
       " 'during',\n",
       " 'the',\n",
       " 'domestication',\n",
       " 'process',\n",
       " '']"
      ]
     },
     "execution_count": 67,
     "metadata": {},
     "output_type": "execute_result"
    }
   ],
   "source": [
    "import re\n",
    "#токенизация\n",
    "res = [re.split('[^a-z]',i) for i in list_lines]\n",
    "res[0]"
   ]
  },
  {
   "cell_type": "code",
   "execution_count": 68,
   "metadata": {},
   "outputs": [
    {
     "data": {
      "text/plain": [
       "['in',\n",
       " 'comparison',\n",
       " 'to',\n",
       " 'dogs',\n",
       " 'cats',\n",
       " 'have',\n",
       " 'not',\n",
       " 'undergone',\n",
       " 'major',\n",
       " 'changes',\n",
       " 'during',\n",
       " 'the',\n",
       " 'domestication',\n",
       " 'process']"
      ]
     },
     "execution_count": 68,
     "metadata": {},
     "output_type": "execute_result"
    }
   ],
   "source": [
    "#удаление пустых слов\n",
    "new_lines = []\n",
    "for line in res:\n",
    "    new_lines.append([i for i in line if i])\n",
    "new_lines[0]"
   ]
  },
  {
   "cell_type": "code",
   "execution_count": 66,
   "metadata": {},
   "outputs": [
    {
     "name": "stdout",
     "output_type": "stream",
     "text": [
      "['streams', 'they', 'used', 'changes', 'major', 'left', 'output', 'high', 'domestication', 'both']\n"
     ]
    }
   ],
   "source": [
    "all_words = set()\n",
    "for lst in new_lines:\n",
    "    for word in lst:\n",
    "        all_words.add(word)\n",
    "\n",
    "print(list(all_words)[0:10])"
   ]
  },
  {
   "cell_type": "code",
   "execution_count": 86,
   "metadata": {
    "scrolled": true
   },
   "outputs": [
    {
     "data": {
      "text/plain": [
       "{'streams': 0,\n",
       " 'they': 1,\n",
       " 'used': 2,\n",
       " 'changes': 3,\n",
       " 'major': 4,\n",
       " 'left': 5,\n",
       " 'output': 6,\n",
       " 'high': 7,\n",
       " 'domestication': 8,\n",
       " 'both': 9,\n",
       " 'named': 10,\n",
       " 'needing': 11,\n",
       " 'unix': 12,\n",
       " 'run': 13,\n",
       " 'mountain': 14,\n",
       " 'deliberately': 15,\n",
       " 'mavericks': 16,\n",
       " 'a': 17,\n",
       " 'os': 18,\n",
       " 'allow': 19,\n",
       " 'as': 20,\n",
       " 'possess': 21,\n",
       " 'on': 22,\n",
       " 'type': 23,\n",
       " 'simply': 24,\n",
       " 'small': 25,\n",
       " 'typically': 26,\n",
       " 'concatenate': 27,\n",
       " 'contains': 28,\n",
       " 'useful': 29,\n",
       " 'no': 30,\n",
       " 'based': 31,\n",
       " 'july': 32,\n",
       " 'during': 33,\n",
       " 'longer': 34,\n",
       " 'files': 35,\n",
       " 'count': 36,\n",
       " 'sequence': 37,\n",
       " 'update': 38,\n",
       " 'allows': 39,\n",
       " 'can': 40,\n",
       " 'so': 41,\n",
       " 'animals': 42,\n",
       " 'hear': 43,\n",
       " 'stdout': 44,\n",
       " 'download': 45,\n",
       " 'features': 46,\n",
       " 'comparison': 47,\n",
       " 'default': 48,\n",
       " 'too': 49,\n",
       " 'or': 50,\n",
       " 'x': 51,\n",
       " 'than': 52,\n",
       " 'factory': 53,\n",
       " 'process': 54,\n",
       " 'which': 55,\n",
       " 'size': 56,\n",
       " 'and': 57,\n",
       " 'undergone': 58,\n",
       " 'october': 59,\n",
       " 'tiger': 60,\n",
       " 'frequency': 61,\n",
       " 'create': 62,\n",
       " 'catenates': 63,\n",
       " 'three': 64,\n",
       " 'members': 65,\n",
       " 'has': 66,\n",
       " 'redirection': 67,\n",
       " 'common': 68,\n",
       " 'were': 69,\n",
       " 'received': 70,\n",
       " 'mice': 71,\n",
       " 'upgrade': 72,\n",
       " 'the': 73,\n",
       " 's': 74,\n",
       " 'need': 75,\n",
       " 'symbols': 76,\n",
       " 'genus': 77,\n",
       " 'firmware': 78,\n",
       " 'available': 79,\n",
       " 'off': 80,\n",
       " 'for': 81,\n",
       " 'kg': 82,\n",
       " 'external': 83,\n",
       " 'fifth': 84,\n",
       " 'lion': 85,\n",
       " 'cat': 86,\n",
       " 'their': 87,\n",
       " 'artificial': 88,\n",
       " 'offered': 89,\n",
       " 'installs': 90,\n",
       " 'permanently': 91,\n",
       " 'releasing': 92,\n",
       " 'unnecessary': 93,\n",
       " 'was': 94,\n",
       " 'released': 95,\n",
       " 'faint': 96,\n",
       " 'two': 97,\n",
       " 'command': 98,\n",
       " 'now': 99,\n",
       " 'rather': 100,\n",
       " 'some': 101,\n",
       " 'with': 102,\n",
       " 'releases': 103,\n",
       " 'running': 104,\n",
       " 'will': 105,\n",
       " 'version': 106,\n",
       " 'second': 107,\n",
       " 'chromosomes': 108,\n",
       " 'its': 109,\n",
       " 'connected': 110,\n",
       " 'any': 111,\n",
       " 'sounds': 112,\n",
       " 'you': 113,\n",
       " 'enhancements': 114,\n",
       " 'separate': 115,\n",
       " 'also': 116,\n",
       " 'arguments': 117,\n",
       " 'terms': 118,\n",
       " 'concern': 119,\n",
       " 'time': 120,\n",
       " 'genes': 121,\n",
       " 'tamed': 122,\n",
       " 'new': 123,\n",
       " 'an': 124,\n",
       " 'stdin': 125,\n",
       " 'it': 126,\n",
       " 'one': 127,\n",
       " 'versions': 128,\n",
       " 'binary': 129,\n",
       " 'keyboards': 130,\n",
       " 'intel': 131,\n",
       " 'cats': 132,\n",
       " 'of': 133,\n",
       " 'from': 134,\n",
       " 'domesticated': 135,\n",
       " 'moved': 136,\n",
       " 'information': 137,\n",
       " 'through': 138,\n",
       " 'switch': 139,\n",
       " 'place': 140,\n",
       " 'legibility': 141,\n",
       " 'is': 142,\n",
       " 'ears': 143,\n",
       " 'starting': 144,\n",
       " 'receives': 145,\n",
       " 'started': 146,\n",
       " 'not': 147,\n",
       " 'however': 148,\n",
       " 'delete': 149,\n",
       " 'weighing': 150,\n",
       " 'error': 151,\n",
       " 'commands': 152,\n",
       " 'people': 153,\n",
       " 'flow': 154,\n",
       " 'yosemite': 155,\n",
       " 'community': 156,\n",
       " 'displays': 157,\n",
       " 'vermin': 158,\n",
       " 'made': 159,\n",
       " 'pipes': 160,\n",
       " 'standard': 161,\n",
       " 'patch': 162,\n",
       " 'according': 163,\n",
       " 'felis': 164,\n",
       " 'dogs': 165,\n",
       " 'lb': 166,\n",
       " 'ancestor': 167,\n",
       " 'if': 168,\n",
       " 'adjacent': 169,\n",
       " 'organisms': 170,\n",
       " 'right': 171,\n",
       " 'processors': 172,\n",
       " 'app': 173,\n",
       " 'developed': 174,\n",
       " 'purchase': 175,\n",
       " 'editions': 176,\n",
       " 'mac': 177,\n",
       " 'have': 178,\n",
       " 'bytes': 179,\n",
       " 'such': 180,\n",
       " 'installation': 181,\n",
       " 'online': 182,\n",
       " 'most': 183,\n",
       " 'predecessor': 184,\n",
       " 'marks': 185,\n",
       " 'world': 186,\n",
       " 'roughly': 187,\n",
       " 'instead': 188,\n",
       " 't': 189,\n",
       " 'between': 190,\n",
       " 'those': 191,\n",
       " 'closest': 192,\n",
       " 'are': 193,\n",
       " 'use': 194,\n",
       " 'be': 195,\n",
       " 'other': 196,\n",
       " 'apple': 197,\n",
       " 'every': 198,\n",
       " 'safer': 199,\n",
       " 'learned': 200,\n",
       " 'symbol': 201,\n",
       " 'predators': 202,\n",
       " 'read': 203,\n",
       " 'release': 204,\n",
       " 'interactive': 205,\n",
       " 'entirely': 206,\n",
       " 'drive': 207,\n",
       " 'osx': 208,\n",
       " 'clear': 209,\n",
       " 'file': 210,\n",
       " 'computers': 211,\n",
       " 'over': 212,\n",
       " 'piped': 213,\n",
       " 'redirected': 214,\n",
       " 'content': 215,\n",
       " 'part': 216,\n",
       " 'year': 217,\n",
       " 'that': 218,\n",
       " 'wrong': 219,\n",
       " 'lines': 220,\n",
       " 'later': 221,\n",
       " 'basic': 222,\n",
       " 'store': 223,\n",
       " 'recent': 224,\n",
       " 'incremental': 225,\n",
       " 'won': 226,\n",
       " 'when': 227,\n",
       " 'safari': 228,\n",
       " 'leopard': 229,\n",
       " 'linux': 230,\n",
       " 'where': 231,\n",
       " 'human': 232,\n",
       " 'similar': 233,\n",
       " 'wild': 234,\n",
       " 'often': 235,\n",
       " 'more': 236,\n",
       " 'may': 237,\n",
       " 'domestic': 238,\n",
       " 'without': 239,\n",
       " 'since': 240,\n",
       " 'by': 241,\n",
       " 'selection': 242,\n",
       " 'to': 243,\n",
       " 'single': 244,\n",
       " 'installed': 245,\n",
       " 'just': 246,\n",
       " 'diploid': 247,\n",
       " 'using': 248,\n",
       " 'disk': 249,\n",
       " 'successor': 250,\n",
       " 'non': 251,\n",
       " 'in': 252,\n",
       " 'mid': 253}"
      ]
     },
     "execution_count": 86,
     "metadata": {},
     "output_type": "execute_result"
    }
   ],
   "source": [
    "ngram = {k: i for i, k in enumerate(all_words)}\n",
    "ngram"
   ]
  },
  {
   "cell_type": "code",
   "execution_count": 122,
   "metadata": {},
   "outputs": [
    {
     "name": "stdout",
     "output_type": "stream",
     "text": [
      "[[0 0 0 ... 0 1 0]\n",
      " [1 0 1 ... 0 0 0]\n",
      " [0 0 0 ... 0 0 0]\n",
      " ...\n",
      " [0 0 0 ... 0 1 0]\n",
      " [0 0 0 ... 0 0 0]\n",
      " [0 0 0 ... 0 0 0]]\n"
     ]
    }
   ],
   "source": [
    "from collections import Counter\n",
    "import numpy as np\n",
    "\n",
    "r = Counter(new_lines[0])\n",
    "vectors = []\n",
    "for i in range(len(new_lines)):\n",
    "    counts = Counter(new_lines[i])\n",
    "    vector = []\n",
    "    for word in ngram:\n",
    "        vector.append(counts.get(word, 0))\n",
    "    vectors.append(vector)\n",
    "\n",
    "A = np.array(vectors)\n",
    "print(A)"
   ]
  },
  {
   "cell_type": "code",
   "execution_count": 118,
   "metadata": {
    "scrolled": true
   },
   "outputs": [
    {
     "data": {
      "text/plain": [
       "{0: 0.0,\n",
       " 1: 0.9527544408738466,\n",
       " 2: 0.8644738145642124,\n",
       " 3: 0.8951715163278082,\n",
       " 4: 0.7770887149698589,\n",
       " 5: 0.9402385695332803,\n",
       " 6: 0.7327387580875756,\n",
       " 7: 0.9258750683338899,\n",
       " 8: 0.8842724875284311,\n",
       " 9: 0.9055088817476932,\n",
       " 10: 0.8328165362273942,\n",
       " 11: 0.8804771390665607,\n",
       " 12: 0.8396432548525454,\n",
       " 13: 0.8703592552895671,\n",
       " 14: 0.8740118423302576,\n",
       " 15: 0.9442721787424647,\n",
       " 16: 0.8406361854220809,\n",
       " 17: 0.956644501523794,\n",
       " 18: 0.9442721787424647,\n",
       " 19: 0.8885443574849294,\n",
       " 20: 0.8427572744917122,\n",
       " 21: 0.8250364469440588}"
      ]
     },
     "execution_count": 118,
     "metadata": {},
     "output_type": "execute_result"
    }
   ],
   "source": [
    "import scipy\n",
    "res = {}\n",
    "for i in range(0, A.shape[0]-1):\n",
    "    res[i] = (scipy.spatial.distance.cosine(A[0], A[i]))\n",
    "res"
   ]
  },
  {
   "cell_type": "code",
   "execution_count": 120,
   "metadata": {
    "scrolled": false
   },
   "outputs": [
    {
     "data": {
      "text/plain": [
       "[(0, 0.0),\n",
       " (6, 0.7327387580875756),\n",
       " (4, 0.7770887149698589),\n",
       " (21, 0.8250364469440588),\n",
       " (10, 0.8328165362273942),\n",
       " (12, 0.8396432548525454),\n",
       " (16, 0.8406361854220809),\n",
       " (20, 0.8427572744917122),\n",
       " (2, 0.8644738145642124),\n",
       " (13, 0.8703592552895671),\n",
       " (14, 0.8740118423302576),\n",
       " (11, 0.8804771390665607),\n",
       " (8, 0.8842724875284311),\n",
       " (19, 0.8885443574849294),\n",
       " (3, 0.8951715163278082),\n",
       " (9, 0.9055088817476932),\n",
       " (7, 0.9258750683338899),\n",
       " (5, 0.9402385695332803),\n",
       " (15, 0.9442721787424647),\n",
       " (18, 0.9442721787424647),\n",
       " (1, 0.9527544408738466),\n",
       " (17, 0.956644501523794)]"
      ]
     },
     "execution_count": 120,
     "metadata": {},
     "output_type": "execute_result"
    }
   ],
   "source": [
    "sorted(res.items(), key=lambda x: (x[1]))"
   ]
  },
  {
   "cell_type": "markdown",
   "metadata": {},
   "source": [
    "# 2 задача"
   ]
  },
  {
   "cell_type": "code",
   "execution_count": 180,
   "metadata": {},
   "outputs": [
    {
     "data": {
      "text/plain": [
       "[3.252216865271419, 0.6352214195786656]"
      ]
     },
     "execution_count": 180,
     "metadata": {},
     "output_type": "execute_result"
    }
   ],
   "source": [
    "import math\n",
    "points = {1, 15}\n",
    "\n",
    "def func(x):\n",
    "    return math.sin(x/5) * math.exp(x/10) + 5*math.exp(-x/2)\n",
    "\n",
    "res = [func(i) for i in points]\n",
    "res"
   ]
  },
  {
   "cell_type": "code",
   "execution_count": 181,
   "metadata": {},
   "outputs": [
    {
     "name": "stdout",
     "output_type": "stream",
     "text": [
      "[3.25221687 0.63522142]\n",
      "(2,)\n",
      "[[3.25221687]\n",
      " [0.63522142]]\n",
      "(2, 1)\n"
     ]
    }
   ],
   "source": [
    "import numpy as np\n",
    "A = np.array([[1,1], [1,15]])\n",
    "b = np.array(res)\n",
    "print(b)\n",
    "print(b.shape)\n",
    "print(b[:, np.newaxis])\n",
    "print(b[:, np.newaxis].shape)"
   ]
  },
  {
   "cell_type": "code",
   "execution_count": 187,
   "metadata": {},
   "outputs": [
    {
     "data": {
      "text/plain": [
       "array([[ 3.43914511],\n",
       "       [-0.18692825]])"
      ]
     },
     "execution_count": 187,
     "metadata": {},
     "output_type": "execute_result"
    }
   ],
   "source": [
    "b = b[:, np.newaxis]\n",
    "x = np.linalg.solve(A, b)\n",
    "x"
   ]
  },
  {
   "cell_type": "code",
   "execution_count": 289,
   "metadata": {},
   "outputs": [
    {
     "data": {
      "text/plain": [
       "[<matplotlib.lines.Line2D at 0x28b699eee80>]"
      ]
     },
     "execution_count": 289,
     "metadata": {},
     "output_type": "execute_result"
    },
    {
     "data": {
      "image/png": "[encoded data removed]",
      "text/plain": [
       "<Figure size 432x288 with 1 Axes>"
      ]
     },
     "metadata": {
      "needs_background": "light"
     },
     "output_type": "display_data"
    }
   ],
   "source": [
    "from matplotlib import pylab as plt\n",
    "plt.plot([i for i in range(1,17)], [func(i) for i in range(1,17)]) #default"
   ]
  },
  {
   "cell_type": "code",
   "execution_count": 189,
   "metadata": {},
   "outputs": [
    {
     "data": {
      "text/plain": [
       "[<matplotlib.lines.Line2D at 0x28b677973c8>]"
      ]
     },
     "execution_count": 189,
     "metadata": {},
     "output_type": "execute_result"
    },
    {
     "data": {
      "image/png": "[encoded data removed]",
      "text/plain": [
       "<Figure size 432x288 with 1 Axes>"
      ]
     },
     "metadata": {
      "needs_background": "light"
     },
     "output_type": "display_data"
    }
   ],
   "source": [
    "#for 2x\n",
    "plt.plot([1, 15], [func(i) for i in [1, 15]])"
   ]
  },
  {
   "cell_type": "code",
   "execution_count": 190,
   "metadata": {},
   "outputs": [
    {
     "data": {
      "text/plain": [
       "[<matplotlib.lines.Line2D at 0x28b6789e2e8>]"
      ]
     },
     "execution_count": 190,
     "metadata": {},
     "output_type": "execute_result"
    },
    {
     "data": {
      "image/png": "[encoded data removed]",
      "text/plain": [
       "<Figure size 432x288 with 1 Axes>"
      ]
     },
     "metadata": {
      "needs_background": "light"
     },
     "output_type": "display_data"
    }
   ],
   "source": [
    "plt.plot([1, 15], x)"
   ]
  },
  {
   "cell_type": "code",
   "execution_count": 200,
   "metadata": {},
   "outputs": [],
   "source": [
    "A = np.array([[1,1,1],[1,8,64], [1,15,225]])\n",
    "res = [func(i) for i in [1, 8, 15]]\n",
    "b = np.array(res)"
   ]
  },
  {
   "cell_type": "code",
   "execution_count": 201,
   "metadata": {},
   "outputs": [],
   "source": [
    "x = np.linalg.solve(A, b)"
   ]
  },
  {
   "cell_type": "code",
   "execution_count": 202,
   "metadata": {},
   "outputs": [
    {
     "data": {
      "text/plain": [
       "[<matplotlib.lines.Line2D at 0x28b6382acf8>]"
      ]
     },
     "execution_count": 202,
     "metadata": {},
     "output_type": "execute_result"
    },
    {
     "data": {
      "image/png": "[encoded data removed]",
      "text/plain": [
       "<Figure size 432x288 with 1 Axes>"
      ]
     },
     "metadata": {
      "needs_background": "light"
     },
     "output_type": "display_data"
    }
   ],
   "source": [
    "plt.plot([1, 8, 15], x)"
   ]
  },
  {
   "cell_type": "code",
   "execution_count": 203,
   "metadata": {},
   "outputs": [
    {
     "data": {
      "text/plain": [
       "[<matplotlib.lines.Line2D at 0x28b6790b320>]"
      ]
     },
     "execution_count": 203,
     "metadata": {},
     "output_type": "execute_result"
    },
    {
     "data": {
      "image/png": "[encoded data removed]",
      "text/plain": [
       "<Figure size 432x288 with 1 Axes>"
      ]
     },
     "metadata": {
      "needs_background": "light"
     },
     "output_type": "display_data"
    }
   ],
   "source": [
    "plt.plot([1, 8, 15], res)"
   ]
  },
  {
   "cell_type": "code",
   "execution_count": 248,
   "metadata": {},
   "outputs": [
    {
     "data": {
      "text/plain": [
       "[<matplotlib.lines.Line2D at 0x28b67da8160>]"
      ]
     },
     "execution_count": 248,
     "metadata": {},
     "output_type": "execute_result"
    },
    {
     "data": {
      "image/png": "[encoded data removed]",
      "text/plain": [
       "<Figure size 432x288 with 1 Axes>"
      ]
     },
     "metadata": {
      "needs_background": "light"
     },
     "output_type": "display_data"
    }
   ],
   "source": [
    "plt.plot([1, 4, 10, 15], [func(i) for i in [1, 4, 10, 15]])"
   ]
  },
  {
   "cell_type": "code",
   "execution_count": 294,
   "metadata": {},
   "outputs": [
    {
     "name": "stdout",
     "output_type": "stream",
     "text": [
      "A\n",
      " [[   1    1    1    1]\n",
      " [   1    4   16   64]\n",
      " [   1   10  100 1000]\n",
      " [   1   15  225 3375]]\n",
      "b\n",
      " [[3.25221687]\n",
      " [1.74684595]\n",
      " [2.50541641]\n",
      " [0.63522142]]\n",
      "x\n",
      " [[ 4.36264154]\n",
      " [-1.29552587]\n",
      " [ 0.19333685]\n",
      " [-0.00823565]]\n"
     ]
    },
    {
     "data": {
      "text/plain": [
       "[<matplotlib.lines.Line2D at 0x28b69a2ed30>]"
      ]
     },
     "execution_count": 294,
     "metadata": {},
     "output_type": "execute_result"
    },
    {
     "data": {
      "image/png": "[encoded data removed]",
      "text/plain": [
       "<Figure size 432x288 with 1 Axes>"
      ]
     },
     "metadata": {
      "needs_background": "light"
     },
     "output_type": "display_data"
    }
   ],
   "source": [
    "A = np.array([[1,1,1,1],[4**i for i in [0, 1, 2, 3]], [10**i for i in [0, 1, 2, 3]], [15**i for i in [0, 1, 2, 3]]])\n",
    "print('A\\n', A)\n",
    "b = [func(i) for i in [1, 4, 10, 15]]\n",
    "b = np.array(b)\n",
    "b = b[:, np.newaxis]\n",
    "print('b\\n', b)\n",
    "\n",
    "x = np.linalg.solve(A, b)\n",
    "print('x\\n', x)\n",
    "plt.plot([1, 4, 10, 15], [i for i in x])\n"
   ]
  },
  {
   "cell_type": "code",
   "execution_count": 295,
   "metadata": {},
   "outputs": [
    {
     "data": {
      "text/plain": [
       "array([[ 4.36264154],\n",
       "       [-1.29552587],\n",
       "       [ 0.19333685],\n",
       "       [-0.00823565]])"
      ]
     },
     "execution_count": 295,
     "metadata": {},
     "output_type": "execute_result"
    }
   ],
   "source": [
    "x"
   ]
  },
  {
   "cell_type": "code",
   "execution_count": 299,
   "metadata": {},
   "outputs": [],
   "source": [
    "with open('G:/file.txt', 'w') as f:\n",
    "    f.write(' '.join([str(i) for i in x]))"
   ]
  },
  {
   "cell_type": "code",
   "execution_count": 300,
   "metadata": {},
   "outputs": [
    {
     "data": {
      "text/plain": [
       "[3.252216865271419, 1.7468459495903677, 2.5054164070002463, 0.6352214195786656]"
      ]
     },
     "execution_count": 300,
     "metadata": {},
     "output_type": "execute_result"
    }
   ],
   "source": [
    " [func(i) for i in [1, 4, 10, 15]]"
   ]
  },
  {
   "cell_type": "code",
   "execution_count": null,
   "metadata": {},
   "outputs": [],
   "source": []
  },
  {
   "cell_type": "code",
   "execution_count": null,
   "metadata": {},
   "outputs": [],
   "source": []
  }
 ],
 "metadata": {
  "kernelspec": {
   "display_name": "Python 3",
   "language": "python",
   "name": "python3"
  },
  "language_info": {
   "codemirror_mode": {
    "name": "ipython",
    "version": 3
   },
   "file_extension": ".py",
   "mimetype": "text/x-python",
   "name": "python",
   "nbconvert_exporter": "python",
   "pygments_lexer": "ipython3",
   "version": "3.7.3"
  }
 },
 "nbformat": 4,
 "nbformat_minor": 2
}
